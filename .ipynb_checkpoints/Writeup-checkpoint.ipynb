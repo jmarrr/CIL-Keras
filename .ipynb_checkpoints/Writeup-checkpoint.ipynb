{
 "cells": [
  {
   "cell_type": "markdown",
   "metadata": {},
   "source": [
    "## Conditional Imitation Learning\n",
    "\n",
    "SDVM will adapt an end to end approach for autonomy. The base algorithm comes from Conditional Imitation Learning by Felipe Codevilla, Matthias Muller, Antonio Lopez, Vladlen Koltun and Alexey Dosovitskiy where the model learns how to drive and the intent of the expert to have a better understanding of the model on the road . To know more about the research you can read on their paper. (https://arxiv.org/abs/1710.02410])\n"
   ]
  },
  {
   "cell_type": "markdown",
   "metadata": {},
   "source": [
    "![A controller gets an observation, and command outputs an action which when interacting with environment creates a new observation.](control.jpeg)\n",
    "\n",
    "A controller gets an observation, and command outputs an action which when interacting with environment creates a new observation.\n"
   ]
  },
  {
   "cell_type": "markdown",
   "metadata": {},
   "source": [
    "## Conditional Imitation Learning Network Architecture"
   ]
  },
  {
   "cell_type": "markdown",
   "metadata": {},
   "source": [
    "![network](net.png)\n",
    "\n",
    "\n",
    "Data are collected on a simulator or real world including images and measurements\n",
    "\n",
    "Command refers to one module might specialize in lane following, another in right turns, and a third in left turns. All modules share the perception stream"
   ]
  },
  {
   "cell_type": "code",
   "execution_count": null,
   "metadata": {},
   "outputs": [],
   "source": [
    "def conv_block(inputs, filters, kernel_size, strides):\n",
    "    \n",
    "    x = Conv2D(filters, (kernel_size, kernel_size), strides = strides, activation='relu')(inputs)\n",
    "    x = MaxPooling2D(pool_size=(3,3), strides=(2,2))(x)\n",
    "    x = BatchNormalization()(x)\n",
    "    x = Dropout(0.4)(x)\n",
    "     \n",
    "    return x\n",
    "\n",
    "def fc_block(inputs, units):\n",
    "    fc = Dense(units, activation = 'relu')(inputs)\n",
    "    fc = Dropout(0.2)(fc)\n",
    "    return fc\n",
    "\n",
    "''' Branches of network, comes from planner or user defined'''\n",
    "branches = []\n",
    "\n",
    "inputs = Input(image_size)\n",
    "\n",
    "\"\"\" Conv 1 \"\"\"\n",
    "x = conv_block(inputs, 32, 5, 2)\n",
    "x = conv_block(x, 32, 3, 1)\n",
    "\n",
    "\"\"\" Conv 2 \"\"\"\n",
    "x = conv_block(inputs, 64, 3, 2)\n",
    "x = conv_block(x, 64, 3, 1)\n",
    "\n",
    "\"\"\" Conv 3 \"\"\"\n",
    "x = conv_block(inputs, 128, 3, 2)\n",
    "x = conv_block(x, 128, 3, 1)\n",
    "\n",
    "\"\"\" Conv 4 \"\"\"\n",
    "x = conv_block(inputs, 256, 3, 1)\n",
    "x = conv_block(x, 256, 3, 1)\n",
    "\n",
    "\"\"\" Reshape \"\"\"\n",
    "x = Flatten()(x)\n",
    "\n",
    "\"\"\" fc \"\"\"\n",
    "x = fc_block(x, 512)\n",
    "\n",
    "\"\"\" fc \"\"\"\n",
    "x = fc_block(x, 512)\n",
    "\n",
    "\"\"\"Process Control\"\"\"\n",
    "\n",
    "\"\"\" Speed (measurements) \"\"\"\n",
    "speed = input_data[1] # input_speed\n",
    "speed = fc_block(speed, 128)\n",
    "speed = fc_block(speed, 128)\n",
    "\n",
    "\"\"\" Joint sensory \"\"\"\n",
    "j = concatenate([x, speed])\n",
    "j = fc_block(j, 512)\n",
    "\n",
    "\n",
    "\"\"\" Final block on dense layer on every branches \"\"\"\n",
    "for i in range(len(branch_config)):\n",
    "    # Use only image input to predict the speed\n",
    "    if branch_config[i][0] == \"Speed\":\n",
    "        branch_output = fc_block(x, 256)\n",
    "        branch_output = fc_block(branch_output, 256)     \n",
    "    else:\n",
    "        branch_output = fc_block(j, 256)\n",
    "        branch_output = fc_block(branch_output, 256)\n",
    "\n",
    "\n",
    "    branches.append(Dense((branch_output,len(branch_config[i]))))"
   ]
  },
  {
   "cell_type": "markdown",
   "metadata": {},
   "source": [
    "### Future changes and improvement\n",
    "    \n",
    "    - Using CNN-RNN model to predict speed with only images\n",
    "    - Advance image processing for inference speed up\n",
    "    - Appplying ResNet to avoid vanishing gradients\n",
    "    - RL model to improve performance\n",
    "    - Motion planner not yet implemented\n",
    "    "
   ]
  },
  {
   "cell_type": "code",
   "execution_count": null,
   "metadata": {},
   "outputs": [],
   "source": []
  }
 ],
 "metadata": {
  "kernelspec": {
   "display_name": "Python 3",
   "language": "python",
   "name": "python3"
  },
  "language_info": {
   "codemirror_mode": {
    "name": "ipython",
    "version": 3
   },
   "file_extension": ".py",
   "mimetype": "text/x-python",
   "name": "python",
   "nbconvert_exporter": "python",
   "pygments_lexer": "ipython3",
   "version": "3.5.4"
  }
 },
 "nbformat": 4,
 "nbformat_minor": 2
}
