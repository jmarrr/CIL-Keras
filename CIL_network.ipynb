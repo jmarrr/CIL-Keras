{
 "cells": [
  {
   "cell_type": "code",
   "execution_count": 10,
   "metadata": {},
   "outputs": [],
   "source": [
    "import numpy as np\n",
    "import glob\n",
    "import h5py\n",
    "import itertools\n",
    "\n",
    "import imgaug as ia\n",
    "from imgaug import augmenters as iaa\n",
    "\n",
    "import matplotlib.pyplot as plt\n",
    "\n",
    "from keras import backend as K\n",
    "from keras.models import Model\n",
    "from keras.callbacks import ModelCheckpoint, Callback\n",
    "from keras.optimizers import Adam, RMSprop, Adagrad, SGD\n",
    "from keras.layers import Input, Dense, Conv2D, MaxPooling2D, BatchNormalization, Dropout, Flatten, concatenate\n",
    "\n",
    "from IPython.display import clear_output"
   ]
  },
  {
   "cell_type": "code",
   "execution_count": null,
   "metadata": {},
   "outputs": [],
   "source": [
    "K.clear_session()\n",
    "K.tensorflow_backend._get_available_gpus()"
   ]
  },
  {
   "cell_type": "markdown",
   "metadata": {},
   "source": [
    "### Load Dataset "
   ]
  },
  {
   "cell_type": "code",
   "execution_count": 11,
   "metadata": {},
   "outputs": [],
   "source": [
    "trainPath = './dataset/SeqTrain/'\n",
    "valPath = './dataset/SeqVal/'\n",
    "\n",
    "trainFile = glob.glob(trainPath + '*.h5')\n",
    "valFile = glob.glob(valPath + '*.h5')\n",
    "\n",
    "print(len(trainFile))\n",
    "print(len(valFile))"
   ]
  },
  {
   "cell_type": "markdown",
   "metadata": {},
   "source": [
    "### Data Augmentation"
   ]
  },
  {
   "cell_type": "code",
   "execution_count": 12,
   "metadata": {},
   "outputs": [],
   "source": [
    "st = lambda aug: iaa.Sometimes(0.4, aug)\n",
    "oc = lambda aug: iaa.Sometimes(0.3, aug)\n",
    "rl = lambda aug: iaa.Sometimes(0.09, aug)\n",
    "\n",
    "seq = iaa.Sequential([\n",
    "        rl(iaa.GaussianBlur((0, 1.5))),                                               # blur images with a sigma between 0 and 1.5\n",
    "        rl(iaa.AdditiveGaussianNoise(loc=0, scale=(0.0, 0.05), per_channel=0.5)),     # add gaussian noise to images\n",
    "        oc(iaa.Dropout((0.0, 0.10), per_channel=0.5)),                                # randomly remove up to X% of the pixels\n",
    "        oc(iaa.CoarseDropout((0.0, 0.10), size_percent=(0.08, 0.2),per_channel=0.5)), # randomly remove up to X% of the pixels\n",
    "        oc(iaa.Add((-40, 40), per_channel=0.5)),                                      # adjust brightness of images (-X to Y% of original value)\n",
    "        st(iaa.Multiply((0.10, 2.5), per_channel=0.2)),                               # adjust brightness of images (X -Y % of original value)\n",
    "        rl(iaa.ContrastNormalization((0.5, 1.5), per_channel=0.5)),                   # adjust the contrast\n",
    "], random_order=True)\n"
   ]
  },
  {
   "cell_type": "markdown",
   "metadata": {},
   "source": [
    "### Configurations"
   ]
  },
  {
   "cell_type": "code",
   "execution_count": 13,
   "metadata": {},
   "outputs": [],
   "source": [
    "batch_size = 120\n",
    "\n",
    "branch_config = [\n",
    "                    [\"Speed\"],\n",
    "                    [\"Steer\", \"Gas\", \"Brake\"], [\"Steer\", \"Gas\", \"Brake\"], \n",
    "                    [\"Steer\", \"Gas\", \"Brake\"], [\"Steer\", \"Gas\", \"Brake\"]\n",
    "                    \n",
    "              ]\n",
    "\n",
    "branch_names = ['Speed', 'Follow', 'Left', 'Right', 'Straight']\n",
    "\n",
    "image_size = (88, 200, 3)\n",
    "\n",
    "input_image = (image_size[0], image_size[1], image_size[2])\n",
    "\n",
    "input_speed = (1,)\n",
    "\n",
    "# High level command: 1 - Speed, 2 - Follow lane, 3 - Go Left, 4 - Go Right, 5 - Straight \n",
    "# Not yet implemented\n",
    "# masks = [1, 2, 3, 4, 5]"
   ]
  },
  {
   "cell_type": "markdown",
   "metadata": {},
   "source": [
    "### Data Generator"
   ]
  },
  {
   "cell_type": "code",
   "execution_count": 14,
   "metadata": {},
   "outputs": [],
   "source": [
    "def batch_generator(file_names, batch_size = 2):  \n",
    "    \n",
    "    ''' High level command: 2 - Follow lane, 3 - Left, 4 - Right, 5 - Straight '''\n",
    "    \n",
    "    batch_x = []   \n",
    "    batch_y = []\n",
    "    batch_s = []\n",
    "   \n",
    "    while True:\n",
    "        for i in range(batch_size - 1):\n",
    "            file_idx = np.random.randint(len(file_names))\n",
    "            sample_idx = np.random.randint(200)\n",
    "\n",
    "            data = h5py.File(file_names[file_idx], 'r')\n",
    "\n",
    "            batch_x.append(seq.augment_image(data['rgb'][sample_idx]))\n",
    "            batch_y.append(data['targets'][sample_idx][:3])\n",
    "            batch_s.append(data['targets'][sample_idx][10])\n",
    "            \n",
    "            data.close()\n",
    "            \n",
    "        batch_x_train = np.array(batch_x)  \n",
    "        batch_s_train = np.array(batch_s)\n",
    "        batch_y_train = np.array(batch_y)\n",
    "        \n",
    "        yield ([batch_x_train], [batch_s_train if i == 0 else batch_y_train for i in range(len(branch_names))])\n",
    "        "
   ]
  },
  {
   "cell_type": "markdown",
   "metadata": {},
   "source": [
    "### Network"
   ]
  },
  {
   "cell_type": "code",
   "execution_count": 15,
   "metadata": {},
   "outputs": [],
   "source": [
    "def CIL(input_image, input_speed, weights_path = None):\n",
    "    \"\"\"\n",
    "       Parameters\n",
    "       ----------\n",
    "            input_image : tuple\n",
    "                Image input shape.\n",
    "                \n",
    "            input_speed : tuple\n",
    "                Speed measurements input shape.\n",
    "                \n",
    "            masks : list\n",
    "                Index of branch to be trained.\n",
    "                \n",
    "            weights_path : string \n",
    "                Path to the weights file\n",
    "                \n",
    "        Returns\n",
    "        -------\n",
    "            Model : keras-object\n",
    "                Network object to be trained\n",
    "                \n",
    "    \"\"\"\n",
    "    \n",
    "    branches = []\n",
    "\n",
    "    def conv_block(inputs, filters, kernel_size, strides):\n",
    "        x = Conv2D(filters, (kernel_size, kernel_size), strides = strides, activation='relu')(inputs)\n",
    "        x = MaxPooling2D(pool_size=(1,1), strides=(1,1))(x)\n",
    "        x = BatchNormalization()(x)\n",
    "        x = Dropout(0.5)(x)\n",
    "\n",
    "        return x\n",
    "\n",
    "    def fc_block(inputs, units):\n",
    "        fc = Dense(units, activation = 'relu')(inputs)\n",
    "        fc = Dropout(0.2)(fc)\n",
    "\n",
    "        return fc\n",
    "\n",
    "    xs = Input(input_image, name='image_input')\n",
    "\n",
    "    '''inputs, filters, kernel_size, strides'''\n",
    "\n",
    "    \"\"\" Conv 1 \"\"\"\n",
    "    x = conv_block(xs, 32, 5, 2)\n",
    "    x = conv_block(x, 32, 3, 1)\n",
    "\n",
    "    \"\"\" Conv 2 \"\"\"\n",
    "    x = conv_block(x, 64, 3, 2)\n",
    "    x = conv_block(x, 64, 3, 1)\n",
    "\n",
    "    \"\"\" Conv 3 \"\"\"\n",
    "    x = conv_block(x, 128, 3, 2)\n",
    "    x = conv_block(x, 128, 3, 1)\n",
    "\n",
    "    \"\"\" Conv 4 \"\"\"\n",
    "    x = conv_block(x, 256, 3, 1)\n",
    "    x = conv_block(x, 256, 3, 1)\n",
    "\n",
    "    \"\"\" Reshape \"\"\"\n",
    "    x = Flatten()(x)\n",
    "\n",
    "    \"\"\" FC1 \"\"\"\n",
    "    x = fc_block(x, 512)\n",
    "\n",
    "    \"\"\" FC2 \"\"\"\n",
    "    x = fc_block(x, 512)\n",
    "\n",
    "    \"\"\"Process Control\"\"\"\n",
    "\n",
    "    \"\"\" Speed (measurements) \"\"\"\n",
    "    sm = Input(input_speed, name='speed_input') \n",
    "    speed = fc_block(sm, 128)\n",
    "    speed = fc_block(speed, 128)\n",
    "\n",
    "    \"\"\" Joint sensory \"\"\"\n",
    "    j = concatenate([x, speed])\n",
    "    j = fc_block(j, 512)\n",
    "\n",
    "\n",
    "    for i in range(len(branch_config)):\n",
    "\n",
    "        if branch_config[i][0] == \"Speed\":\n",
    "            branch_output = fc_block(x, 256)\n",
    "            branch_output = fc_block(branch_output, 256)\n",
    "\n",
    "        else:\n",
    "            branch_output = fc_block(j, 256)\n",
    "            branch_output = fc_block(branch_output, 256)\n",
    "\n",
    "        fully_connected = Dense(len(branch_config[i]), name = branch_names[i])(branch_output)\n",
    "        branches.append(fully_connected)\n",
    "  \n",
    "    print(branches)\n",
    "    \n",
    "    # Load weights\n",
    "    if weights_path:\n",
    "        model.load_weights(weights_path)\n",
    "        \n",
    "    return model\n",
    "    "
   ]
  },
  {
   "cell_type": "code",
   "execution_count": 16,
   "metadata": {},
   "outputs": [
    {
     "name": "stdout",
     "output_type": "stream",
     "text": [
      "[<tf.Tensor 'Speed_1/BiasAdd:0' shape=(?, 1) dtype=float32>, <tf.Tensor 'Follow_1/BiasAdd:0' shape=(?, 3) dtype=float32>, <tf.Tensor 'Left_1/BiasAdd:0' shape=(?, 3) dtype=float32>, <tf.Tensor 'Right_1/BiasAdd:0' shape=(?, 3) dtype=float32>, <tf.Tensor 'Straight_1/BiasAdd:0' shape=(?, 3) dtype=float32>]\n"
     ]
    }
   ],
   "source": [
    "model = CIL(input_image, input_speed)"
   ]
  },
  {
   "cell_type": "markdown",
   "metadata": {},
   "source": [
    "### Training"
   ]
  },
  {
   "cell_type": "code",
   "execution_count": null,
   "metadata": {},
   "outputs": [],
   "source": [
    "model.compile(loss='mean_squared_error', optimizer=Adam(lr=0.00003), metrics=['accuracy'])\n",
    "\n",
    "checkpoint = ModelCheckpoint('model-{epoch:03d}.h5',\n",
    "                                 monitor='val_loss',\n",
    "                                 verbose=0,\n",
    "                                 save_best_only=True,\n",
    "                                 mode='auto')\n",
    "\n",
    "history = model.fit_generator(batch_generator(trainFile, batch_size),          \n",
    "                    max_queue_size=1,\n",
    "                    epochs=10,\n",
    "                    steps_per_epoch=500,\n",
    "                    validation_data=batch_generator(valFile, batch_size),\n",
    "                    validation_steps=len(valFile)//batch_size,,\n",
    "                    callbacks=[checkpoint]\n",
    "                   )"
   ]
  },
  {
   "cell_type": "markdown",
   "metadata": {},
   "source": [
    "### Visualization"
   ]
  },
  {
   "cell_type": "code",
   "execution_count": null,
   "metadata": {},
   "outputs": [],
   "source": [
    "print(history.history.keys())\n",
    "\n",
    "# High level command: 1 - Speed, 2 - Follow lane, 3 - Go Left, 4 - Go Right, 5 - Straight"
   ]
  },
  {
   "cell_type": "markdown",
   "metadata": {},
   "source": [
    "### Speed Loss"
   ]
  },
  {
   "cell_type": "code",
   "execution_count": null,
   "metadata": {},
   "outputs": [],
   "source": [
    "# Get training and test loss histories\n",
    "training_loss = history.history['Speed_loss']\n",
    "test_loss = history.history['val_Speed_loss']\n",
    "\n",
    "# Create count of the number of epochs\n",
    "epoch_count = range(1, len(training_loss) + 1)\n",
    "\n",
    "# Visualize loss history\n",
    "plt.plot(epoch_count, training_loss, 'r--')\n",
    "plt.plot(epoch_count, test_loss, 'b-')\n",
    "plt.legend(['Training Loss', 'Test Loss'])\n",
    "plt.xlabel('Epoch')\n",
    "plt.ylabel('Loss')\n",
    "plt.show();"
   ]
  },
  {
   "cell_type": "markdown",
   "metadata": {},
   "source": [
    "### Speed Accuracy"
   ]
  },
  {
   "cell_type": "code",
   "execution_count": null,
   "metadata": {},
   "outputs": [],
   "source": [
    "# Get training and test loss histories\n",
    "training_loss = history.history['Speed_acc']\n",
    "test_loss = history.history['val_Speed_acc']\n",
    "\n",
    "# Create count of the number of epochs\n",
    "epoch_count = range(1, len(training_loss) + 1)\n",
    "\n",
    "# Visualize loss history\n",
    "plt.plot(epoch_count, training_loss, 'r--')\n",
    "plt.plot(epoch_count, test_loss, 'b-')\n",
    "plt.legend(['Training Accuracy', 'Test Accuracy'])\n",
    "plt.xlabel('Epoch')\n",
    "plt.ylabel('Accuracy')\n",
    "plt.show();"
   ]
  },
  {
   "cell_type": "markdown",
   "metadata": {},
   "source": [
    "### Follow Loss"
   ]
  },
  {
   "cell_type": "code",
   "execution_count": null,
   "metadata": {},
   "outputs": [],
   "source": [
    "# Get training and test loss histories\n",
    "training_loss = history.history['Follow_loss']\n",
    "test_loss = history.history['val_Follow_loss']\n",
    "\n",
    "# Create count of the number of epochs\n",
    "epoch_count = range(1, len(training_loss) + 1)\n",
    "\n",
    "# Visualize loss history\n",
    "plt.plot(epoch_count, training_loss, 'r--')\n",
    "plt.plot(epoch_count, test_loss, 'b-')\n",
    "plt.legend(['Training Loss', 'Test Loss'])\n",
    "plt.xlabel('Epoch')\n",
    "plt.ylabel('Loss')\n",
    "plt.show();"
   ]
  },
  {
   "cell_type": "markdown",
   "metadata": {},
   "source": [
    "### Follow Accuracy"
   ]
  },
  {
   "cell_type": "code",
   "execution_count": null,
   "metadata": {},
   "outputs": [],
   "source": [
    "# Get training and test loss histories\n",
    "training_loss = history.history['Follow_acc']\n",
    "test_loss = history.history['val_Follow_acc']\n",
    "\n",
    "# Create count of the number of epochs\n",
    "epoch_count = range(1, len(training_loss) + 1)\n",
    "\n",
    "# Visualize loss history\n",
    "plt.plot(epoch_count, training_loss, 'r--')\n",
    "plt.plot(epoch_count, test_loss, 'b-')\n",
    "plt.legend(['Training Accuracy', 'Test Accuracy'])\n",
    "plt.xlabel('Epoch')\n",
    "plt.ylabel('Accuracy')\n",
    "plt.show();"
   ]
  },
  {
   "cell_type": "markdown",
   "metadata": {},
   "source": [
    "### Left Loss "
   ]
  },
  {
   "cell_type": "code",
   "execution_count": null,
   "metadata": {},
   "outputs": [],
   "source": [
    "# Get training and test loss histories\n",
    "training_loss = history.history['Left_loss']\n",
    "test_loss = history.history['val_Left_loss']\n",
    "\n",
    "# Create count of the number of epochs\n",
    "epoch_count = range(1, len(training_loss) + 1)\n",
    "\n",
    "# Visualize loss history\n",
    "plt.plot(epoch_count, training_loss, 'r--')\n",
    "plt.plot(epoch_count, test_loss, 'b-')\n",
    "plt.legend(['Training Loss', 'Test Loss'])\n",
    "plt.xlabel('Epoch')\n",
    "plt.ylabel('Loss')\n",
    "plt.show();"
   ]
  },
  {
   "cell_type": "markdown",
   "metadata": {},
   "source": [
    "### Left Accuracy"
   ]
  },
  {
   "cell_type": "code",
   "execution_count": null,
   "metadata": {},
   "outputs": [],
   "source": [
    "# Get training and test loss histories\n",
    "training_loss = history.history['Left_acc']\n",
    "test_loss = history.history['val_Left_acc']\n",
    "\n",
    "# Create count of the number of epochs\n",
    "epoch_count = range(1, len(training_loss) + 1)\n",
    "\n",
    "# Visualize loss history\n",
    "plt.plot(epoch_count, training_loss, 'r--')\n",
    "plt.plot(epoch_count, test_loss, 'b-')\n",
    "plt.legend(['Training Accuracy', 'Test Accuracy'])\n",
    "plt.xlabel('Epoch')\n",
    "plt.ylabel('Accuracy')\n",
    "plt.show();"
   ]
  },
  {
   "cell_type": "markdown",
   "metadata": {},
   "source": [
    "### Right Loss "
   ]
  },
  {
   "cell_type": "code",
   "execution_count": null,
   "metadata": {},
   "outputs": [],
   "source": [
    "# Get training and test loss histories\n",
    "training_loss = history.history['Right_loss']\n",
    "test_loss = history.history['val_Right_loss']\n",
    "\n",
    "# Create count of the number of epochs\n",
    "epoch_count = range(1, len(training_loss) + 1)\n",
    "\n",
    "# Visualize loss history\n",
    "plt.plot(epoch_count, training_loss, 'r--')\n",
    "plt.plot(epoch_count, test_loss, 'b-')\n",
    "plt.legend(['Training Loss', 'Test Loss'])\n",
    "plt.xlabel('Epoch')\n",
    "plt.ylabel('Loss')\n",
    "plt.show();"
   ]
  },
  {
   "cell_type": "markdown",
   "metadata": {},
   "source": [
    "### Right Accuracy "
   ]
  },
  {
   "cell_type": "code",
   "execution_count": null,
   "metadata": {},
   "outputs": [],
   "source": [
    "# Get training and test loss histories\n",
    "training_loss = history.history['Right_acc']\n",
    "test_loss = history.history['val_Right_acc']\n",
    "\n",
    "# Create count of the number of epochs\n",
    "epoch_count = range(1, len(training_loss) + 1)\n",
    "\n",
    "# Visualize loss history\n",
    "plt.plot(epoch_count, training_loss, 'r--')\n",
    "plt.plot(epoch_count, test_loss, 'b-')\n",
    "plt.legend(['Training Accuracy', 'Test Accuracy'])\n",
    "plt.xlabel('Epoch')\n",
    "plt.ylabel('Accuracy')\n",
    "plt.show();"
   ]
  },
  {
   "cell_type": "markdown",
   "metadata": {},
   "source": [
    "### Straight Loss"
   ]
  },
  {
   "cell_type": "code",
   "execution_count": null,
   "metadata": {},
   "outputs": [],
   "source": [
    "# Get training and test loss histories\n",
    "training_loss = history.history['Straight_loss']\n",
    "test_loss = history.history['val_Straight_loss']\n",
    "\n",
    "# Create count of the number of epochs\n",
    "epoch_count = range(1, len(training_loss) + 1)\n",
    "\n",
    "# Visualize loss history\n",
    "plt.plot(epoch_count, training_loss, 'r--')\n",
    "plt.plot(epoch_count, test_loss, 'b-')\n",
    "plt.legend(['Training Loss', 'Test Loss'])\n",
    "plt.xlabel('Epoch')\n",
    "plt.ylabel('Loss')\n",
    "plt.show();"
   ]
  },
  {
   "cell_type": "markdown",
   "metadata": {},
   "source": [
    "### Straight Accuracy"
   ]
  },
  {
   "cell_type": "code",
   "execution_count": null,
   "metadata": {},
   "outputs": [],
   "source": [
    "# Get training and test loss histories\n",
    "training_loss = history.history['Straight_acc']\n",
    "test_loss = history.history['val_Straight_acc']\n",
    "\n",
    "# Create count of the number of epochs\n",
    "epoch_count = range(1, len(training_loss) + 1)\n",
    "\n",
    "# Visualize loss history\n",
    "plt.plot(epoch_count, training_loss, 'r--')\n",
    "plt.plot(epoch_count, test_loss, 'b-')\n",
    "plt.legend(['Training Accuracy', 'Test Accuracy'])\n",
    "plt.xlabel('Epoch')\n",
    "plt.ylabel('Accuracy')\n",
    "plt.show();"
   ]
  }
 ],
 "metadata": {
  "kernelspec": {
   "display_name": "Python 3",
   "language": "python",
   "name": "python3"
  },
  "language_info": {
   "codemirror_mode": {
    "name": "ipython",
    "version": 3
   },
   "file_extension": ".py",
   "mimetype": "text/x-python",
   "name": "python",
   "nbconvert_exporter": "python",
   "pygments_lexer": "ipython3",
   "version": "3.5.4"
  }
 },
 "nbformat": 4,
 "nbformat_minor": 2
}
